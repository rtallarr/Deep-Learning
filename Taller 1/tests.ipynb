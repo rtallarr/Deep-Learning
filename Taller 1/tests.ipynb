{
 "cells": [
  {
   "attachments": {},
   "cell_type": "markdown",
   "metadata": {},
   "source": [
    "## Base Imports"
   ]
  },
  {
   "cell_type": "code",
   "execution_count": 2,
   "metadata": {},
   "outputs": [],
   "source": [
    "import tensorflow as tf\n",
    "import numpy as np\n",
    "import pandas as pd\n",
    "import matplotlib.pyplot as plt\n",
    "\n",
    "import os"
   ]
  },
  {
   "cell_type": "code",
   "execution_count": 5,
   "metadata": {},
   "outputs": [
    {
     "name": "stdout",
     "output_type": "stream",
     "text": [
      "['Disk_Edge-on_Boxy_Bulge', 'Disk_Edge-on_No_Bulge', 'Disk_Edge-on_Rounded_Bulge', 'Disk_Face-on_Loose_Spiral', 'Disk_Face-on_Medium_Spiral', 'Disk_Face-on_No_Spiral', 'Disk_Face-on_Tight_Spiral', 'Smooth_Cigar_shaped', 'Smooth_Completely_round', 'Smooth_in-between_round']\n"
     ]
    }
   ],
   "source": [
    "BATCH_SIZE = 32\n",
    "RES_ESPACIAL = 64\n",
    "CHANNELS = 3\n",
    "\n",
    "label_list = []\n",
    "for class_name in os.listdir(\"galaxies_INF395/train/\"):\n",
    "  label_list.append(class_name)\n",
    "label_list.sort()\n",
    "\n",
    "print(label_list)"
   ]
  },
  {
   "cell_type": "code",
   "execution_count": 10,
   "metadata": {},
   "outputs": [
    {
     "name": "stdout",
     "output_type": "stream",
     "text": [
      "{0: 'Disk_Edge-on_Boxy_Bulge', 1: 'Disk_Edge-on_No_Bulge', 2: 'Disk_Edge-on_Rounded_Bulge', 3: 'Disk_Face-on_Loose_Spiral', 4: 'Disk_Face-on_Medium_Spiral', 5: 'Disk_Face-on_No_Spiral', 6: 'Disk_Face-on_Tight_Spiral', 7: 'Smooth_Cigar_shaped', 8: 'Smooth_Completely_round', 9: 'Smooth_in-between_round'}\n"
     ]
    }
   ],
   "source": [
    "idx2classname = {}\n",
    "for idx, class_name in enumerate(label_list):\n",
    "    idx2classname[idx] = class_name\n",
    "\n",
    "print(idx2classname)"
   ]
  },
  {
   "attachments": {},
   "cell_type": "markdown",
   "metadata": {},
   "source": [
    "Cargar datos de entrenamiento, validacion y pruebas."
   ]
  },
  {
   "cell_type": "code",
   "execution_count": 20,
   "metadata": {},
   "outputs": [
    {
     "name": "stdout",
     "output_type": "stream",
     "text": [
      "Found 10636 files belonging to 10 classes.\n",
      "Found 3542 files belonging to 10 classes.\n",
      "Found 3558 files belonging to 10 classes.\n"
     ]
    }
   ],
   "source": [
    "def load_data(path, batch_size, res):\n",
    "    data = tf.keras.preprocessing.image_dataset_from_directory(\n",
    "        path,\n",
    "        labels=\"inferred\",\n",
    "        label_mode=\"categorical\",\n",
    "        color_mode=\"rgb\",\n",
    "        batch_size=batch_size,\n",
    "        image_size=(res, res),\n",
    "        shuffle=True,\n",
    "        seed=123\n",
    "    )\n",
    "    return data\n",
    "\n",
    "train_data = load_data(\"galaxies_INF395/train/\", BATCH_SIZE, RES_ESPACIAL)\n",
    "val_data = load_data(\"galaxies_INF395/val/\", BATCH_SIZE, RES_ESPACIAL)\n",
    "test_data = load_data(\"galaxies_INF395/test/\", BATCH_SIZE, RES_ESPACIAL)"
   ]
  },
  {
   "cell_type": "code",
   "execution_count": 21,
   "metadata": {},
   "outputs": [],
   "source": [
    "def normalize(images, label):\n",
    "    images = tf.cast(images, tf.float32) / 255.0\n",
    "    return images, label\n",
    "\n",
    "train_data = train_data.map(normalize)\n",
    "val_data = val_data.map(normalize)\n",
    "test_data = test_data.map(normalize)\n",
    "\n",
    "train_dataset =  train_data.cache()\n",
    "val_dataset =  val_data.cache()\n",
    "test_dataset  =  test_data.cache()"
   ]
  },
  {
   "cell_type": "code",
   "execution_count": 22,
   "metadata": {},
   "outputs": [
    {
     "name": "stdout",
     "output_type": "stream",
     "text": [
      "(32, 64, 64, 3)\n",
      "(32, 10)\n"
     ]
    }
   ],
   "source": [
    "for x,y in train_data:\n",
    "    print(x.shape)\n",
    "    print(y.shape)\n",
    "    break"
   ]
  },
  {
   "cell_type": "code",
   "execution_count": 30,
   "metadata": {},
   "outputs": [],
   "source": [
    "num_neurons = 256\n",
    "model = tf.keras.Sequential([\n",
    "    tf.keras.layers.Flatten(input_shape=(64, 64, 3)),\n",
    "    tf.keras.layers.Dense(num_neurons, activation=tf.nn.relu),\n",
    "    tf.keras.layers.Dense(num_neurons, activation=tf.nn.relu),\n",
    "    tf.keras.layers.Dense(num_neurons, activation=tf.nn.relu),\n",
    "    tf.keras.layers.Dense(10, activation=tf.nn.softmax)\n",
    "])\n",
    "\n",
    "#model.summary()"
   ]
  },
  {
   "cell_type": "code",
   "execution_count": 34,
   "metadata": {},
   "outputs": [
    {
     "name": "stdout",
     "output_type": "stream",
     "text": [
      "Epoch 1/5\n",
      "333/333 [==============================] - 7s 20ms/step - loss: 1.3062 - accuracy: 0.5330 - val_loss: 1.4091 - val_accuracy: 0.4932\n",
      "Epoch 2/5\n",
      "333/333 [==============================] - 7s 21ms/step - loss: 1.2431 - accuracy: 0.5533 - val_loss: 1.3507 - val_accuracy: 0.5130\n",
      "Epoch 3/5\n",
      "333/333 [==============================] - 7s 20ms/step - loss: 1.2221 - accuracy: 0.5549 - val_loss: 1.4237 - val_accuracy: 0.4912\n",
      "Epoch 4/5\n",
      "333/333 [==============================] - 7s 19ms/step - loss: 1.1594 - accuracy: 0.5794 - val_loss: 1.3842 - val_accuracy: 0.5071\n",
      "Epoch 5/5\n",
      "333/333 [==============================] - 7s 21ms/step - loss: 1.1039 - accuracy: 0.6014 - val_loss: 1.3580 - val_accuracy: 0.5161\n"
     ]
    }
   ],
   "source": [
    "model.compile(optimizer='adam',\n",
    "              loss=tf.keras.losses.CategoricalCrossentropy(),\n",
    "              metrics=['accuracy'])\n",
    "\n",
    "with tf.device('/GPU:0'):\n",
    "    model.fit(train_data, epochs=5, validation_data=val_data)"
   ]
  },
  {
   "cell_type": "code",
   "execution_count": 35,
   "metadata": {},
   "outputs": [
    {
     "name": "stdout",
     "output_type": "stream",
     "text": [
      "Num GPUs Available:  0\n"
     ]
    }
   ],
   "source": [
    "print(\"Num GPUs Available: \", len(tf.config.list_physical_devices('GPU')))"
   ]
  }
 ],
 "metadata": {
  "kernelspec": {
   "display_name": "Python 3",
   "language": "python",
   "name": "python3"
  },
  "language_info": {
   "codemirror_mode": {
    "name": "ipython",
    "version": 3
   },
   "file_extension": ".py",
   "mimetype": "text/x-python",
   "name": "python",
   "nbconvert_exporter": "python",
   "pygments_lexer": "ipython3",
   "version": "3.11.1"
  },
  "orig_nbformat": 4
 },
 "nbformat": 4,
 "nbformat_minor": 2
}
