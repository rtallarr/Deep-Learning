{
 "cells": [
  {
   "cell_type": "code",
   "execution_count": 1,
   "metadata": {},
   "outputs": [],
   "source": [
    "import tensorflow as tf\n",
    "import numpy as np\n",
    "import matplotlib.pyplot as plt\n",
    "import pandas as pd"
   ]
  },
  {
   "cell_type": "code",
   "execution_count": 2,
   "metadata": {},
   "outputs": [],
   "source": [
    "# Constantes\n",
    "BATCH_SIZE = 256\n",
    "EPOCHS = 100\n",
    "NEURONS = 64\n",
    "CAPAS = 3\n",
    "RES_ESPACIAL = 128\n",
    "CHANNELS = 3\n",
    "\n",
    "def load_data(path, batch_size, res=RES_ESPACIAL):\n",
    "    return tf.keras.utils.image_dataset_from_directory(\n",
    "        path,\n",
    "        labels='inferred',\n",
    "        label_mode='categorical',\n",
    "        color_mode='rgb',\n",
    "        batch_size=batch_size,\n",
    "        image_size=(res, res),\n",
    "        shuffle=True\n",
    "    )"
   ]
  },
  {
   "cell_type": "code",
   "execution_count": 3,
   "metadata": {},
   "outputs": [
    {
     "name": "stdout",
     "output_type": "stream",
     "text": [
      "Found 185101 files belonging to 46 classes.\n",
      "Found 37020 files belonging to 46 classes.\n",
      "Found 46276 files belonging to 46 classes.\n"
     ]
    }
   ],
   "source": [
    "train_images = load_data('data/train_images/', BATCH_SIZE)\n",
    "reduced_train_images = load_data('data/reduced_train_images/', BATCH_SIZE)\n",
    "val_images = load_data('data/val_images/', BATCH_SIZE)"
   ]
  },
  {
   "cell_type": "code",
   "execution_count": null,
   "metadata": {},
   "outputs": [],
   "source": []
  },
  {
   "cell_type": "code",
   "execution_count": 5,
   "metadata": {},
   "outputs": [],
   "source": [
    "train_metadata = pd.read_csv('data/metadata_train_df.csv')\n",
    "reduced_train_metadata = pd.read_csv('data/metadata_reduced_train_df.csv')\n",
    "val_metadata = pd.read_csv('data/metadata_val_df.csv')\n",
    "test_metadata = pd.read_csv('data/metadata_test_df.csv')"
   ]
  },
  {
   "cell_type": "code",
   "execution_count": 6,
   "metadata": {},
   "outputs": [],
   "source": [
    "def preprocess(x, y):\n",
    "    normalization_layer = tf.keras.layers.Rescaling(1./255)\n",
    "    return tf.reshape(normalization_layer(x), (-1, RES_ESPACIAL, RES_ESPACIAL, CHANNELS)), y\n",
    "\n",
    "train_images_preprocessed = train_images.map(preprocess)\n",
    "reduced_train_images_preprocessed = reduced_train_images.map(preprocess)\n",
    "val_images_preprocessed = val_images.map(preprocess)"
   ]
  },
  {
   "cell_type": "code",
   "execution_count": 7,
   "metadata": {},
   "outputs": [
    {
     "name": "stdout",
     "output_type": "stream",
     "text": [
      "Model: \"model\"\n",
      "_________________________________________________________________\n",
      " Layer (type)                Output Shape              Param #   \n",
      "=================================================================\n",
      " input_1 (InputLayer)        [(None, 128, 128, 3)]     0         \n",
      "                                                                 \n",
      " conv2d (Conv2D)             (None, 126, 126, 64)      1792      \n",
      "                                                                 \n",
      " conv2d_1 (Conv2D)           (None, 124, 124, 64)      36928     \n",
      "                                                                 \n",
      " conv2d_2 (Conv2D)           (None, 122, 122, 64)      36928     \n",
      "                                                                 \n",
      " flatten (Flatten)           (None, 952576)            0         \n",
      "                                                                 \n",
      " dense (Dense)               (None, 64)                60964928  \n",
      "                                                                 \n",
      " dense_1 (Dense)             (None, 2)                 130       \n",
      "                                                                 \n",
      "=================================================================\n",
      "Total params: 61,040,706\n",
      "Trainable params: 61,040,706\n",
      "Non-trainable params: 0\n",
      "_________________________________________________________________\n"
     ]
    }
   ],
   "source": [
    "input = tf.keras.Input(shape=(RES_ESPACIAL, RES_ESPACIAL, CHANNELS))\n",
    "hidden = tf.keras.layers.Conv2D(NEURONS, 3, activation='relu')(input)\n",
    "for i in range(CAPAS - 1):\n",
    "    hidden = tf.keras.layers.Conv2D(NEURONS, 3, activation='relu')(hidden)\n",
    "hidden = tf.keras.layers.Flatten()(hidden)\n",
    "hidden = tf.keras.layers.Dense(NEURONS, activation='relu')(hidden)\n",
    "output = tf.keras.layers.Dense(2, activation='softmax')(hidden)\n",
    "\n",
    "model = tf.keras.Model(inputs=input, outputs=output)\n",
    "model.summary()"
   ]
  }
 ],
 "metadata": {
  "kernelspec": {
   "display_name": "Python 3",
   "language": "python",
   "name": "python3"
  },
  "language_info": {
   "codemirror_mode": {
    "name": "ipython",
    "version": 3
   },
   "file_extension": ".py",
   "mimetype": "text/x-python",
   "name": "python",
   "nbconvert_exporter": "python",
   "pygments_lexer": "ipython3",
   "version": "3.11.1"
  },
  "orig_nbformat": 4
 },
 "nbformat": 4,
 "nbformat_minor": 2
}
