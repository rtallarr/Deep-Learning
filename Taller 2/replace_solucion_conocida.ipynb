{
 "cells": [
  {
   "cell_type": "code",
   "execution_count": 30,
   "metadata": {},
   "outputs": [],
   "source": [
    "import pandas as pd"
   ]
  },
  {
   "cell_type": "code",
   "execution_count": 31,
   "metadata": {},
   "outputs": [],
   "source": [
    "# Ejemplos\n",
    "ejemplo = pd.read_csv('ejemplo_submission_file.csv')\n",
    "solution = pd.read_csv('sample_solution_key_KAGGLE.csv')"
   ]
  },
  {
   "cell_type": "code",
   "execution_count": 32,
   "metadata": {},
   "outputs": [],
   "source": [
    "# if an Id from ejemplo is in solution replace the row from ejemplo with the row from solution\n",
    "for i in range(len(ejemplo)):\n",
    "    if ejemplo['Id'][i] in solution['Id'].values:\n",
    "        # save the row before changing it\n",
    "        row = ejemplo.iloc[i]\n",
    "        # replace the row\n",
    "        ejemplo.iloc[i] = solution[solution['Id'] == ejemplo['Id'][i]].values[0]\n",
    "        # append data from row to the end of the current row\n",
    "        #print(\"Row Guardada:\\n\", row, \"\\nRow Completa:\\n\", ejemplo.iloc[i])\n",
    "        ejemplo.iloc[i] += row"
   ]
  },
  {
   "cell_type": "code",
   "execution_count": 33,
   "metadata": {},
   "outputs": [],
   "source": [
    "ejemplo.to_csv('Kaggle_submit.csv', index=False)"
   ]
  }
 ],
 "metadata": {
  "kernelspec": {
   "display_name": "Python 3",
   "language": "python",
   "name": "python3"
  },
  "language_info": {
   "codemirror_mode": {
    "name": "ipython",
    "version": 3
   },
   "file_extension": ".py",
   "mimetype": "text/x-python",
   "name": "python",
   "nbconvert_exporter": "python",
   "pygments_lexer": "ipython3",
   "version": "3.11.1"
  },
  "orig_nbformat": 4
 },
 "nbformat": 4,
 "nbformat_minor": 2
}
