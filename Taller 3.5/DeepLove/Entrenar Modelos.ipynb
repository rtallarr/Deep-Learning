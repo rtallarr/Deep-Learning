{
  "cells": [
    {
      "attachments": {},
      "cell_type": "markdown",
      "metadata": {
        "id": "yLm5XV1XdT02"
      },
      "source": [
        "# Base Imports"
      ]
    },
    {
      "cell_type": "code",
      "execution_count": 1,
      "metadata": {
        "id": "ZlDkjFWudVMG"
      },
      "outputs": [
        {
          "name": "stderr",
          "output_type": "stream",
          "text": [
            "c:\\Users\\Rodrigo\\AppData\\Local\\Programs\\Python\\Python310\\lib\\site-packages\\tensorflow_addons\\utils\\tfa_eol_msg.py:23: UserWarning: \n",
            "\n",
            "TensorFlow Addons (TFA) has ended development and introduction of new features.\n",
            "TFA has entered a minimal maintenance and release mode until a planned end of life in May 2024.\n",
            "Please modify downstream libraries to take dependencies from other repositories in our TensorFlow community (e.g. Keras, Keras-CV, and Keras-NLP). \n",
            "\n",
            "For more information see: https://github.com/tensorflow/addons/issues/2807 \n",
            "\n",
            "  warnings.warn(\n"
          ]
        }
      ],
      "source": [
        "import tensorflow as tf\n",
        "import tensorflow_addons as tfa\n",
        "from tensorflow import keras\n",
        "from tensorflow.keras.optimizers import Adam\n",
        "from tensorflow.keras.preprocessing.text import Tokenizer\n",
        "from tensorflow.keras.preprocessing.sequence import pad_sequences\n",
        "\n",
        "import pandas as pd\n",
        "import numpy as np\n",
        "import matplotlib.pyplot as plt\n",
        "import seaborn as sns\n",
        "import re\n",
        "\n",
        "import nltk\n",
        "from nltk.corpus import stopwords\n",
        "from  nltk.stem import SnowballStemmer"
      ]
    },
    {
      "attachments": {},
      "cell_type": "markdown",
      "metadata": {
        "id": "zvtuvW2v9V7b"
      },
      "source": [
        "# Load Data"
      ]
    },
    {
      "cell_type": "code",
      "execution_count": 2,
      "metadata": {
        "colab": {
          "base_uri": "https://localhost:8080/"
        },
        "id": "wSwRxjOQ9Xm-",
        "outputId": "e5688615-3104-478b-dd25-1e82fb5b6ca8"
      },
      "outputs": [
        {
          "name": "stdout",
          "output_type": "stream",
          "text": [
            "(1804, 10)\n",
            "(452, 10)\n"
          ]
        }
      ],
      "source": [
        "TRAIN_SIZE = 0.8\n",
        "PATH = 'data/'\n",
        "\n",
        "classes = [\"Mujeres\", \"LGBT\", \"Migrantes\", \"Pueblos Originarios\"]\n",
        "data_train = pd.read_csv(PATH+'tweets_train.csv')\n",
        "\n",
        "train_data = data_train.sample(frac=1).reset_index(drop=True)\n",
        "train_data, val_data = train_data.iloc[:int(TRAIN_SIZE*len(train_data)), :], train_data.iloc[int(TRAIN_SIZE*len(train_data)):, :]\n",
        "\n",
        "print(train_data.shape)\n",
        "print(val_data.shape)\n",
        "\n",
        "#train_data.head(5)\n",
        "#val_data.head(5)"
      ]
    },
    {
      "attachments": {},
      "cell_type": "markdown",
      "metadata": {},
      "source": [
        "# Preprocess Data"
      ]
    },
    {
      "cell_type": "code",
      "execution_count": 3,
      "metadata": {},
      "outputs": [],
      "source": [
        "# Considerar que un dato pertenece solo si las 3 personas pusieron que pertenece\n",
        "limite = 3\n",
        "\n",
        "train_data['Odio'] = np.where(train_data['Odio'] == limite, 1, 0)\n",
        "train_data['Mujeres'] = np.where(train_data['Mujeres'] == limite, 1, 0)\n",
        "train_data['Comunidad LGBTQ+'] = np.where(train_data['Comunidad LGBTQ+'] == limite, 1, 0)\n",
        "train_data['Comunidades Migrantes'] = np.where(train_data['Comunidades Migrantes'] == limite, 1, 0)\n",
        "train_data['Pueblos Originarios'] = np.where(train_data['Pueblos Originarios'] == limite, 1, 0)\n",
        "\n",
        "val_data['Odio'] = np.where(val_data['Odio'] == limite, 1, 0)\n",
        "val_data['Mujeres'] = np.where(val_data['Mujeres'] == limite, 1, 0)\n",
        "val_data['Comunidad LGBTQ+'] = np.where(val_data['Comunidad LGBTQ+'] == limite, 1, 0)\n",
        "val_data['Comunidades Migrantes'] = np.where(val_data['Comunidades Migrantes'] == limite, 1, 0)\n",
        "val_data['Pueblos Originarios'] = np.where(val_data['Pueblos Originarios'] == limite, 1, 0)\n",
        "\n",
        "#train_data.head(5)\n",
        "#val_data.head(5)"
      ]
    },
    {
      "cell_type": "code",
      "execution_count": 4,
      "metadata": {},
      "outputs": [],
      "source": [
        "train_tweets = train_data['text'].values\n",
        "val_tweets = val_data['text'].values"
      ]
    },
    {
      "cell_type": "code",
      "execution_count": 5,
      "metadata": {},
      "outputs": [],
      "source": [
        "def clean_text(text):\n",
        "  TEXT_CLEANING_RE = \"@\\S+|https?:\\S+|http?:\\S|[^A-Za-z0-9]+\"\n",
        "  TEXT_CLEANING_RE_EXTRA = \"[^\\w\\s]\"\n",
        "  TEXT_CLEAN_CHAR = \"(\\s\\w\\s)\"\n",
        "  text = re.sub(TEXT_CLEANING_RE, ' ', str(text).lower()).strip()\n",
        "  text = re.sub(TEXT_CLEANING_RE_EXTRA, ' ', str(text).lower()).strip()\n",
        "  text = re.sub(TEXT_CLEAN_CHAR, ' ', str(text).lower()).strip()\n",
        "  return text"
      ]
    },
    {
      "cell_type": "code",
      "execution_count": 6,
      "metadata": {},
      "outputs": [],
      "source": [
        "#nltk.download('wordnet')\n",
        "#nltk.download('stopwords')\n",
        "stop_words = stopwords.words(\"spanish\")"
      ]
    },
    {
      "cell_type": "code",
      "execution_count": 7,
      "metadata": {},
      "outputs": [],
      "source": [
        "stemmer = SnowballStemmer(\"spanish\")\n",
        "\n",
        "def preprocess(text,cleaning=True,stopwords=True,stemming=True):\n",
        "    if cleaning:\n",
        "      text = clean_text(text)\n",
        "    tokens = []\n",
        "    for token in text.split():\n",
        "        if (not stopwords) or (stopwords and (token not in stop_words)):\n",
        "            if stemming:\n",
        "                tokens.append(stemmer.stem(token))\n",
        "            else:\n",
        "                tokens.append(token)\n",
        "    return \" \".join(tokens)"
      ]
    },
    {
      "cell_type": "code",
      "execution_count": 8,
      "metadata": {},
      "outputs": [],
      "source": [
        "cleaned_train = [preprocess(tweet, stemming=False) for tweet in train_tweets]\n",
        "cleaned_val = [preprocess(tweet, stemming=False) for tweet in val_tweets]"
      ]
    },
    {
      "cell_type": "code",
      "execution_count": 9,
      "metadata": {},
      "outputs": [],
      "source": [
        "PATH_ODIO = 'Odio/'\n",
        "PATH_CATEGORIAS = 'Categorias/'\n",
        "N_MAX_WORDS = 5000\n",
        "MAX_TEXT_LENGTH = 25"
      ]
    },
    {
      "cell_type": "code",
      "execution_count": 10,
      "metadata": {},
      "outputs": [],
      "source": [
        "Seq_tokenizer = Tokenizer(num_words=N_MAX_WORDS)\n",
        "Seq_tokenizer.fit_on_texts(cleaned_train)\n",
        "\n",
        "train_sequences = Seq_tokenizer.texts_to_sequences(cleaned_train)\n",
        "val_sequences = Seq_tokenizer.texts_to_sequences(cleaned_val)\n",
        "\n",
        "train_sequences = pad_sequences(train_sequences, maxlen=MAX_TEXT_LENGTH)\n",
        "val_sequences = pad_sequences(val_sequences, maxlen=MAX_TEXT_LENGTH)"
      ]
    },
    {
      "cell_type": "code",
      "execution_count": 11,
      "metadata": {},
      "outputs": [],
      "source": [
        "TF_tokenizer = Tokenizer(num_words=N_MAX_WORDS)\n",
        "TF_tokenizer.fit_on_texts(cleaned_train)"
      ]
    },
    {
      "cell_type": "code",
      "execution_count": 12,
      "metadata": {},
      "outputs": [],
      "source": [
        "train_vectors = TF_tokenizer.texts_to_matrix(cleaned_train, mode='tfidf')\n",
        "val_vectors = TF_tokenizer.texts_to_matrix(cleaned_val, mode='tfidf')"
      ]
    },
    {
      "attachments": {},
      "cell_type": "markdown",
      "metadata": {},
      "source": [
        "# Codificar Clases"
      ]
    },
    {
      "cell_type": "code",
      "execution_count": 13,
      "metadata": {},
      "outputs": [
        {
          "name": "stdout",
          "output_type": "stream",
          "text": [
            "(1804, 5000)\n",
            "(1804,)\n",
            "(452, 5000)\n",
            "(452,)\n"
          ]
        }
      ],
      "source": [
        "x_train_odio = train_vectors\n",
        "y_train_odio = train_data['Odio'].values\n",
        "x_val_odio = val_vectors\n",
        "y_val_odio = val_data['Odio'].values\n",
        "\n",
        "print(x_train_odio.shape)\n",
        "print(y_train_odio.shape)\n",
        "print(x_val_odio.shape)\n",
        "print(y_val_odio.shape)"
      ]
    },
    {
      "cell_type": "code",
      "execution_count": 14,
      "metadata": {},
      "outputs": [
        {
          "name": "stdout",
          "output_type": "stream",
          "text": [
            "(1804, 5000)\n",
            "(1804, 4)\n",
            "(452, 5000)\n",
            "(452, 4)\n"
          ]
        }
      ],
      "source": [
        "x_train_categorias = train_vectors\n",
        "y_train_categorias = train_data[['Mujeres', 'Comunidad LGBTQ+', 'Comunidades Migrantes', 'Pueblos Originarios']].values\n",
        "x_val_categorias = val_vectors\n",
        "y_val_categorias = val_data[['Mujeres', 'Comunidad LGBTQ+', 'Comunidades Migrantes', 'Pueblos Originarios']].values\n",
        "\n",
        "print(x_train_categorias.shape)\n",
        "print(y_train_categorias.shape)\n",
        "print(x_val_categorias.shape)\n",
        "print(y_val_categorias.shape)"
      ]
    },
    {
      "cell_type": "code",
      "execution_count": 15,
      "metadata": {},
      "outputs": [
        {
          "data": {
            "image/png": "[encoded data removed]",
            "text/plain": [
              "<Figure size 800x300 with 1 Axes>"
            ]
          },
          "metadata": {},
          "output_type": "display_data"
        }
      ],
      "source": [
        "n_print_words = 50\n",
        "wcounts = list(TF_tokenizer.word_counts.items())\n",
        "wcounts.sort(key=lambda x: x[1], reverse=True)\n",
        "top_words = wcounts[:n_print_words]\n",
        "\n",
        "fig, ax = plt.subplots(figsize=(8,3),nrows=1)\n",
        "ax.set_title('Frecuencia Top Words',fontsize=9)\n",
        "sns.barplot(x=[w[0] for w in top_words], y=[w[1] for w in top_words])\n",
        "ax.set_xlabel(\"tokens\",fontsize=9)\n",
        "ax.set_ylabel(\"frecuencia\",fontsize=9)\n",
        "ax.tick_params(axis='both', which='major', labelsize=9)\n",
        "plt.xticks(rotation=90)\n",
        "plt.show()"
      ]
    },
    {
      "attachments": {},
      "cell_type": "markdown",
      "metadata": {},
      "source": [
        "# Model - Odio"
      ]
    },
    {
      "cell_type": "code",
      "execution_count": 16,
      "metadata": {},
      "outputs": [],
      "source": [
        "METRICS = [\n",
        "      tf.metrics.BinaryAccuracy(name='accuracy'),\n",
        "      tfa.metrics.F1Score(name='F1',average='macro', num_classes=1)\n",
        "]"
      ]
    },
    {
      "attachments": {},
      "cell_type": "markdown",
      "metadata": {},
      "source": [
        "### Entrenar modelo nuevo"
      ]
    },
    {
      "cell_type": "code",
      "execution_count": 17,
      "metadata": {},
      "outputs": [],
      "source": [
        "def FNN(num_words=5000):\n",
        "  input = keras.Input(shape=(num_words))\n",
        "  hidden = keras.layers.Dense(50, activation='relu')(input)\n",
        "  hidden = keras.layers.Dense(20, activation='relu')(hidden)\n",
        "  output = keras.layers.Dense(1, activation=\"sigmoid\")(hidden)\n",
        "  model_dense = tf.keras.Model(inputs=input, outputs=output)\n",
        "  return model_dense"
      ]
    },
    {
      "cell_type": "code",
      "execution_count": 18,
      "metadata": {},
      "outputs": [],
      "source": [
        "modelo_denso = FNN(num_words=5000)\n",
        "#modelo_denso.summary()"
      ]
    },
    {
      "cell_type": "code",
      "execution_count": 19,
      "metadata": {},
      "outputs": [
        {
          "name": "stdout",
          "output_type": "stream",
          "text": [
            "Epoch 1/40\n",
            "57/57 - 1s - loss: 0.6032 - accuracy: 0.6901 - F1: 0.4279 - val_loss: 0.5451 - val_accuracy: 0.7412 - val_F1: 0.4494 - 1s/epoch - 20ms/step\n",
            "Epoch 2/40\n",
            "57/57 - 0s - loss: 0.2783 - accuracy: 0.9141 - F1: 0.4279 - val_loss: 0.4829 - val_accuracy: 0.8031 - val_F1: 0.4494 - 150ms/epoch - 3ms/step\n",
            "Epoch 3/40\n",
            "57/57 - 0s - loss: 0.1056 - accuracy: 0.9734 - F1: 0.4279 - val_loss: 0.5605 - val_accuracy: 0.7942 - val_F1: 0.4494 - 136ms/epoch - 2ms/step\n",
            "Epoch 4/40\n",
            "57/57 - 0s - loss: 0.0441 - accuracy: 0.9884 - F1: 0.4279 - val_loss: 0.6207 - val_accuracy: 0.7898 - val_F1: 0.4494 - 129ms/epoch - 2ms/step\n",
            "Epoch 5/40\n",
            "57/57 - 0s - loss: 0.0231 - accuracy: 0.9956 - F1: 0.4279 - val_loss: 0.6756 - val_accuracy: 0.7942 - val_F1: 0.4494 - 134ms/epoch - 2ms/step\n"
          ]
        }
      ],
      "source": [
        "modelo_denso = FNN(num_words=5000)\n",
        "opt =  Adam()\n",
        "\n",
        "modelo_denso.compile(loss='binary_crossentropy', metrics=METRICS, optimizer=opt)\n",
        "\n",
        "checkpoint_path = 'FNN_checkpoints/FNN.{epoch:02d}-{val_accuracy:.4f}.h5'\n",
        "cp_callback = tf.keras.callbacks.ModelCheckpoint(filepath=checkpoint_path,save_weights_only=True,save_best_only=True,monitor='val_accuracy',mode='max')\n",
        "\n",
        "es = tf.keras.callbacks.EarlyStopping(monitor='val_accuracy', patience=3, restore_best_weights=True, mode='max')\n",
        "historial_FF = modelo_denso.fit(x_train_odio, y_train_odio, batch_size=32, epochs=40, verbose=2, validation_data=(x_val_odio, y_val_odio), callbacks=[es,cp_callback])"
      ]
    },
    {
      "attachments": {},
      "cell_type": "markdown",
      "metadata": {},
      "source": [
        "### Guardar Modelo"
      ]
    },
    {
      "cell_type": "code",
      "execution_count": 20,
      "metadata": {},
      "outputs": [
        {
          "name": "stdout",
          "output_type": "stream",
          "text": [
            "Model: \"model_1\"\n",
            "_________________________________________________________________\n",
            " Layer (type)                Output Shape              Param #   \n",
            "=================================================================\n",
            " input_2 (InputLayer)        [(None, 5000)]            0         \n",
            "                                                                 \n",
            " dense_3 (Dense)             (None, 50)                250050    \n",
            "                                                                 \n",
            " dense_4 (Dense)             (None, 20)                1020      \n",
            "                                                                 \n",
            " dense_5 (Dense)             (None, 1)                 21        \n",
            "                                                                 \n",
            "=================================================================\n",
            "Total params: 251,091\n",
            "Trainable params: 251,091\n",
            "Non-trainable params: 0\n",
            "_________________________________________________________________\n"
          ]
        }
      ],
      "source": [
        "modelo_denso.summary()\n",
        "modelo_denso.save(PATH_ODIO+'Modelo_denso.h5')"
      ]
    },
    {
      "attachments": {},
      "cell_type": "markdown",
      "metadata": {},
      "source": [
        "# Modelo - Categorias"
      ]
    },
    {
      "attachments": {},
      "cell_type": "markdown",
      "metadata": {},
      "source": [
        "### Entrenar modelo nuevo"
      ]
    },
    {
      "cell_type": "code",
      "execution_count": 21,
      "metadata": {},
      "outputs": [],
      "source": [
        "import tensorflow_hub as hub\n",
        "import bert\n",
        "from bert.tokenization.bert_tokenization import FullTokenizer"
      ]
    },
    {
      "cell_type": "code",
      "execution_count": 22,
      "metadata": {},
      "outputs": [],
      "source": [
        "METRICS = [\n",
        "      tf.metrics.BinaryAccuracy(name='accuracy'),\n",
        "      tfa.metrics.F1Score(name='F1',average='macro', num_classes=len(classes))\n",
        "]"
      ]
    },
    {
      "cell_type": "code",
      "execution_count": 23,
      "metadata": {},
      "outputs": [],
      "source": [
        "bert_path = 'https://tfhub.dev/tensorflow/bert_en_uncased_L-12_H-768_A-12/1'\n",
        "bert_layer = hub.KerasLayer(bert_path, trainable=True)\n",
        "\n",
        "vocab_file = bert_layer.resolved_object.vocab_file.asset_path.numpy()\n",
        "do_lower_case = bert_layer.resolved_object.do_lower_case.numpy()\n",
        "bert_tokenizer = FullTokenizer(vocab_file, do_lower_case)"
      ]
    },
    {
      "cell_type": "code",
      "execution_count": 24,
      "metadata": {},
      "outputs": [],
      "source": [
        "def prepare_input_for_bert(texts, bert_tokenizer, max_seq_len):\n",
        "  x, y, z =[],[], []\n",
        "  for text in texts:\n",
        "    tokens = bert_tokenizer.tokenize(text)\n",
        "    tokens = tokens[:min(len(tokens),max_seq_len-2)]\n",
        "    tokens = [\"[CLS]\"]+tokens+[\"[SEP]\"]\n",
        "    token_ids = bert_tokenizer.convert_tokens_to_ids(tokens)\n",
        "    input_ids = token_ids + [0] * (max_seq_len-len(token_ids))\n",
        "    input_mask = ([1] * len(token_ids)) + ([0] *  (max_seq_len - len(token_ids)))\n",
        "    input_type = ([0] * (len(token_ids)-1)) + [1] + ([0] *  (max_seq_len - len(token_ids)))\n",
        "    x.append(np.array(input_ids))\n",
        "    y.append(np.array(input_mask))\n",
        "    z.append(np.array(input_type))\n",
        "  return [tf.cast(np.array(x),tf.int32), tf.cast(np.array(y),tf.int32), tf.cast(np.array(z),tf.int32)]"
      ]
    },
    {
      "cell_type": "code",
      "execution_count": 25,
      "metadata": {},
      "outputs": [],
      "source": [
        "def bert_based_model(max_seq_len):\n",
        "\n",
        "  input_ids = keras.layers.Input(shape=(max_seq_len,), dtype='int32', name=\"input_ids\")\n",
        "  input_mask = keras.layers.Input(shape=(max_seq_len,), dtype='int32', name=\"input_masks\")\n",
        "  input_segments = keras.layers.Input(shape=(max_seq_len,), dtype='int32', name=\"input_segments\")\n",
        "  pooled_output, sequence_output = bert_layer([input_ids, input_mask, input_segments])\n",
        "  cls_out = keras.layers.GlobalAveragePooling1D()(sequence_output)\n",
        "  logits = keras.layers.Dropout(0.7)(cls_out)\n",
        "  logits = keras.layers.Dense(768)(logits)\n",
        "  logits = keras.layers.Dropout(0.7)(logits)\n",
        "  logits = keras.layers.Dense(len(classes), activation=\"sigmoid\")(logits)\n",
        "  classifier = keras.Model([input_ids, input_mask, input_segments],logits)\n",
        "\n",
        "  return classifier"
      ]
    },
    {
      "cell_type": "code",
      "execution_count": 26,
      "metadata": {},
      "outputs": [
        {
          "name": "stdout",
          "output_type": "stream",
          "text": [
            "(1804, 50)\n"
          ]
        }
      ],
      "source": [
        "max_seq_len=50\n",
        "bert_input_train = prepare_input_for_bert(train_tweets,bert_tokenizer,max_seq_len)\n",
        "bert_input_val = prepare_input_for_bert(val_tweets,bert_tokenizer,max_seq_len)\n",
        "print(bert_input_train[0].shape)"
      ]
    },
    {
      "cell_type": "code",
      "execution_count": 27,
      "metadata": {},
      "outputs": [
        {
          "name": "stdout",
          "output_type": "stream",
          "text": [
            "Model: \"model_2\"\n",
            "__________________________________________________________________________________________________\n",
            " Layer (type)                   Output Shape         Param #     Connected to                     \n",
            "==================================================================================================\n",
            " input_ids (InputLayer)         [(None, 50)]         0           []                               \n",
            "                                                                                                  \n",
            " input_masks (InputLayer)       [(None, 50)]         0           []                               \n",
            "                                                                                                  \n",
            " input_segments (InputLayer)    [(None, 50)]         0           []                               \n",
            "                                                                                                  \n",
            " keras_layer (KerasLayer)       [(None, 768),        109482241   ['input_ids[0][0]',              \n",
            "                                 (None, 50, 768)]                 'input_masks[0][0]',            \n",
            "                                                                  'input_segments[0][0]']         \n",
            "                                                                                                  \n",
            " global_average_pooling1d (Glob  (None, 768)         0           ['keras_layer[0][1]']            \n",
            " alAveragePooling1D)                                                                              \n",
            "                                                                                                  \n",
            " dropout (Dropout)              (None, 768)          0           ['global_average_pooling1d[0][0]'\n",
            "                                                                 ]                                \n",
            "                                                                                                  \n",
            " dense_6 (Dense)                (None, 768)          590592      ['dropout[0][0]']                \n",
            "                                                                                                  \n",
            " dropout_1 (Dropout)            (None, 768)          0           ['dense_6[0][0]']                \n",
            "                                                                                                  \n",
            " dense_7 (Dense)                (None, 4)            3076        ['dropout_1[0][0]']              \n",
            "                                                                                                  \n",
            "==================================================================================================\n",
            "Total params: 110,075,909\n",
            "Trainable params: 110,075,908\n",
            "Non-trainable params: 1\n",
            "__________________________________________________________________________________________________\n"
          ]
        }
      ],
      "source": [
        "bert_model = bert_based_model(max_seq_len)\n",
        "bert_model.summary()\n",
        "bert_model.compile(\n",
        "    optimizer=keras.optimizers.Adam(learning_rate=1e-5),\n",
        "    loss=tf.keras.losses.BinaryCrossentropy(),\n",
        "    metrics=METRICS)"
      ]
    },
    {
      "cell_type": "code",
      "execution_count": 28,
      "metadata": {},
      "outputs": [
        {
          "name": "stdout",
          "output_type": "stream",
          "text": [
            "57/57 [==============================] - 250s 4s/step - loss: 0.4159 - accuracy: 0.7687 - F1: 0.1302 - val_loss: 0.2929 - val_accuracy: 0.9098 - val_F1: 0.1549\n"
          ]
        }
      ],
      "source": [
        "checkpoint_path = 'BERT_based_checkpoints/BERT_based.{epoch:02d}-{val_F1:.4f}.h5'\n",
        "cp_callback = tf.keras.callbacks.ModelCheckpoint(filepath=checkpoint_path,save_weights_only=True,save_best_only=True,monitor='val_F1',mode='max')\n",
        "es = tf.keras.callbacks.EarlyStopping(monitor='val_F1', patience=5, restore_best_weights=True, mode='max')\n",
        "history_bert_model = bert_model.fit(bert_input_train, y_train_categorias, epochs=40, batch_size=32, validation_data=(bert_input_val, y_val_categorias), callbacks=[es])"
      ]
    },
    {
      "attachments": {},
      "cell_type": "markdown",
      "metadata": {},
      "source": [
        "### Guardar Modelo"
      ]
    },
    {
      "cell_type": "code",
      "execution_count": 30,
      "metadata": {},
      "outputs": [
        {
          "name": "stdout",
          "output_type": "stream",
          "text": [
            "Model: \"model_2\"\n",
            "__________________________________________________________________________________________________\n",
            " Layer (type)                   Output Shape         Param #     Connected to                     \n",
            "==================================================================================================\n",
            " input_ids (InputLayer)         [(None, 50)]         0           []                               \n",
            "                                                                                                  \n",
            " input_masks (InputLayer)       [(None, 50)]         0           []                               \n",
            "                                                                                                  \n",
            " input_segments (InputLayer)    [(None, 50)]         0           []                               \n",
            "                                                                                                  \n",
            " keras_layer (KerasLayer)       [(None, 768),        109482241   ['input_ids[0][0]',              \n",
            "                                 (None, 50, 768)]                 'input_masks[0][0]',            \n",
            "                                                                  'input_segments[0][0]']         \n",
            "                                                                                                  \n",
            " global_average_pooling1d (Glob  (None, 768)         0           ['keras_layer[0][1]']            \n",
            " alAveragePooling1D)                                                                              \n",
            "                                                                                                  \n",
            " dropout (Dropout)              (None, 768)          0           ['global_average_pooling1d[0][0]'\n",
            "                                                                 ]                                \n",
            "                                                                                                  \n",
            " dense_6 (Dense)                (None, 768)          590592      ['dropout[0][0]']                \n",
            "                                                                                                  \n",
            " dropout_1 (Dropout)            (None, 768)          0           ['dense_6[0][0]']                \n",
            "                                                                                                  \n",
            " dense_7 (Dense)                (None, 4)            3076        ['dropout_1[0][0]']              \n",
            "                                                                                                  \n",
            "==================================================================================================\n",
            "Total params: 110,075,909\n",
            "Trainable params: 110,075,908\n",
            "Non-trainable params: 1\n",
            "__________________________________________________________________________________________________\n"
          ]
        }
      ],
      "source": [
        "bert_model.summary()\n",
        "bert_model.save(PATH_CATEGORIAS+'Modelo.h5')"
      ]
    }
  ],
  "metadata": {
    "colab": {
      "collapsed_sections": [
        "EkFGgLo7s8tE",
        "bsVED_Pw1WJO",
        "XzdMTP1z_Xhe"
      ],
      "provenance": [],
      "toc_visible": true
    },
    "kernelspec": {
      "display_name": "Python 3",
      "name": "python3"
    },
    "language_info": {
      "codemirror_mode": {
        "name": "ipython",
        "version": 3
      },
      "file_extension": ".py",
      "mimetype": "text/x-python",
      "name": "python",
      "nbconvert_exporter": "python",
      "pygments_lexer": "ipython3",
      "version": "3.10.6"
    }
  },
  "nbformat": 4,
  "nbformat_minor": 0
}
