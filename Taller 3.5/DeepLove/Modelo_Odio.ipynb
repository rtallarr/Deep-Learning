{
  "cells": [
    {
      "attachments": {},
      "cell_type": "markdown",
      "metadata": {
        "id": "yLm5XV1XdT02"
      },
      "source": [
        "# Base Imports"
      ]
    },
    {
      "cell_type": "code",
      "execution_count": 1,
      "metadata": {
        "id": "ZlDkjFWudVMG"
      },
      "outputs": [
        {
          "name": "stderr",
          "output_type": "stream",
          "text": [
            "[nltk_data] Downloading package wordnet to\n",
            "[nltk_data]     C:\\Users\\Rodrigo\\AppData\\Roaming\\nltk_data...\n",
            "[nltk_data]   Package wordnet is already up-to-date!\n",
            "[nltk_data] Downloading package stopwords to\n",
            "[nltk_data]     C:\\Users\\Rodrigo\\AppData\\Roaming\\nltk_data...\n",
            "[nltk_data]   Package stopwords is already up-to-date!\n"
          ]
        }
      ],
      "source": [
        "import tensorflow as tf\n",
        "from tensorflow import keras\n",
        "from tensorflow.keras.optimizers import Adam\n",
        "from tensorflow.keras.preprocessing.text import Tokenizer\n",
        "from tensorflow.keras.preprocessing.sequence import pad_sequences\n",
        "import pandas as pd\n",
        "import numpy as np\n",
        "import re\n",
        "import nltk\n",
        "from nltk.corpus import stopwords\n",
        "from  nltk.stem import SnowballStemmer\n",
        "import tensorflow_hub as hub\n",
        "import re\n",
        "import spacy\n",
        "nltk.download('wordnet')\n",
        "nltk.download('stopwords')\n",
        "from nltk.corpus import stopwords\n",
        "from  nltk.stem import SnowballStemmer"
      ]
    },
    {
      "attachments": {},
      "cell_type": "markdown",
      "metadata": {
        "id": "zvtuvW2v9V7b"
      },
      "source": [
        "# Load Data"
      ]
    },
    {
      "cell_type": "code",
      "execution_count": 2,
      "metadata": {
        "colab": {
          "base_uri": "https://localhost:8080/"
        },
        "id": "wSwRxjOQ9Xm-",
        "outputId": "e5688615-3104-478b-dd25-1e82fb5b6ca8"
      },
      "outputs": [
        {
          "name": "stdout",
          "output_type": "stream",
          "text": [
            "(1917, 10)\n",
            "(339, 10)\n"
          ]
        }
      ],
      "source": [
        "TRAIN_SIZE = 0.85\n",
        "PATH = 'data/'\n",
        "\n",
        "#\"Odio\", \"Mujeres\", \"Comunidad LGBTQ+\", \"Comunidades Migrantes\", \"Pueblos Originarios\"\n",
        "classes = [\"Odio\"]\n",
        "data_train = pd.read_csv(PATH+'tweets_train.csv')\n",
        "\n",
        "train_data = data_train.sample(frac=1).reset_index(drop=True)\n",
        "train_data, val_data = train_data.iloc[:int(TRAIN_SIZE*len(train_data)), :], train_data.iloc[int(TRAIN_SIZE*len(train_data)):, :]\n",
        "\n",
        "print(train_data.shape)\n",
        "print(val_data.shape)"
      ]
    },
    {
      "attachments": {},
      "cell_type": "markdown",
      "metadata": {},
      "source": [
        "# Preprocess Data"
      ]
    },
    {
      "attachments": {},
      "cell_type": "markdown",
      "metadata": {},
      "source": [
        "## Nivel considerado odio"
      ]
    },
    {
      "cell_type": "code",
      "execution_count": 3,
      "metadata": {},
      "outputs": [],
      "source": [
        "NIVEL_PARA_ODIO = 2\n",
        "\n",
        "if NIVEL_PARA_ODIO == 3:\n",
        "    # Considerar que un dato pertenece solo si las 3 personas pusieron que pertenece\n",
        "    train_data['Odio'] = np.where(train_data['Odio'] == 3, 1, 0)\n",
        "    val_data['Odio'] = np.where(val_data['Odio'] == 3, 1, 0)\n",
        "    train_data['Mujeres'] = np.where(train_data['Mujeres'] == 3, 1, 0)\n",
        "    val_data['Mujeres'] = np.where(val_data['Mujeres'] == 3, 1, 0)\n",
        "    train_data['Comunidad LGBTQ+'] = np.where(train_data['Comunidad LGBTQ+'] == 3, 1, 0)\n",
        "    val_data['Comunidad LGBTQ+'] = np.where(val_data['Comunidad LGBTQ+'] == 3, 1, 0)\n",
        "    train_data['Comunidades Migrantes'] = np.where(train_data['Comunidades Migrantes'] == 3, 1, 0)\n",
        "    val_data['Comunidades Migrantes'] = np.where(val_data['Comunidades Migrantes'] == 3, 1, 0)\n",
        "    train_data['Pueblos Originarios'] = np.where(train_data['Pueblos Originarios'] == 3, 1, 0)\n",
        "    val_data['Pueblos Originarios'] = np.where(val_data['Pueblos Originarios'] == 3, 1, 0)   \n",
        "elif NIVEL_PARA_ODIO == 2:\n",
        "    train_data['Odio'] = np.where((train_data['Odio'] == 3) | (train_data['Odio'] == 2), 1, 0)\n",
        "    val_data['Odio'] = np.where((val_data['Odio'] == 3) | (val_data['Odio'] == 2), 1, 0)\n",
        "    train_data['Mujeres'] = np.where((train_data['Mujeres'] == 3) | (train_data['Mujeres'] == 2), 1, 0)\n",
        "    val_data['Mujeres'] = np.where((val_data['Mujeres'] == 3) | (val_data['Mujeres'] == 2), 1, 0)\n",
        "    train_data['Comunidad LGBTQ+'] = np.where((train_data['Comunidad LGBTQ+'] == 3) | (train_data['Comunidad LGBTQ+'] == 2), 1, 0)\n",
        "    val_data['Comunidad LGBTQ+'] = np.where((val_data['Comunidad LGBTQ+'] == 3) | (val_data['Comunidad LGBTQ+'] == 2), 1, 0)\n",
        "    train_data['Comunidades Migrantes'] = np.where((train_data['Comunidades Migrantes'] == 3) | (train_data['Comunidades Migrantes'] == 2), 1, 0)\n",
        "    val_data['Comunidades Migrantes'] = np.where((val_data['Comunidades Migrantes'] == 3) | (val_data['Comunidades Migrantes'] == 2), 1, 0)\n",
        "    train_data['Pueblos Originarios'] = np.where((train_data['Pueblos Originarios'] == 3) | (train_data['Pueblos Originarios'] == 2), 1, 0)\n",
        "    val_data['Pueblos Originarios'] = np.where((val_data['Pueblos Originarios'] == 3) | (val_data['Pueblos Originarios'] == 2), 1, 0)"
      ]
    },
    {
      "attachments": {},
      "cell_type": "markdown",
      "metadata": {},
      "source": [
        "## Cleaning"
      ]
    },
    {
      "cell_type": "code",
      "execution_count": 4,
      "metadata": {},
      "outputs": [
        {
          "ename": "ModuleNotFoundError",
          "evalue": "No module named 'spacy_spanish_lemmatizer'",
          "output_type": "error",
          "traceback": [
            "\u001b[1;31m---------------------------------------------------------------------------\u001b[0m",
            "\u001b[1;31mModuleNotFoundError\u001b[0m                       Traceback (most recent call last)",
            "Cell \u001b[1;32mIn[4], line 2\u001b[0m\n\u001b[0;32m      1\u001b[0m \u001b[39mimport\u001b[39;00m \u001b[39munidecode\u001b[39;00m\n\u001b[1;32m----> 2\u001b[0m \u001b[39mimport\u001b[39;00m \u001b[39mspacy_spanish_lemmatizer\u001b[39;00m\n\u001b[0;32m      4\u001b[0m stemmer \u001b[39m=\u001b[39m SnowballStemmer(\u001b[39m\"\u001b[39m\u001b[39mspanish\u001b[39m\u001b[39m\"\u001b[39m)\n\u001b[0;32m      5\u001b[0m nlp \u001b[39m=\u001b[39m spacy\u001b[39m.\u001b[39mload(\u001b[39m\"\u001b[39m\u001b[39mes_core_news_lg\u001b[39m\u001b[39m\"\u001b[39m)\n",
            "\u001b[1;31mModuleNotFoundError\u001b[0m: No module named 'spacy_spanish_lemmatizer'"
          ]
        }
      ],
      "source": [
        "import unidecode\n",
        "import spacy_spanish_lemmatizer\n",
        "\n",
        "stemmer = SnowballStemmer(\"spanish\")\n",
        "nlp = spacy.load(\"es_core_news_lg\")\n",
        "#nlp.replace_pipe(\"lemmatizer\", \"spanish_lemmatizer\")\n",
        "stop_words = stopwords.words(\"spanish\")\n",
        "\n",
        "def clean_text(text, len_words):\n",
        "    TEXT_CLEANING_RE = \"@\\S+\" # separado porque solo agarraba la primera etiqueta\n",
        "    TEXT_CLEANING_RE2 = \"https?:\\S+|http?:\\S|[^A-Za-z0-9]+\"\n",
        "    TEXT_CLEANING_RE_EXTRA = \"[^\\w\\s]\"\n",
        "    if len_words == 1:\n",
        "        text = re.sub(r'\\b\\w{1}\\b', '', str(text).lower()).strip()\n",
        "    elif len_words == 2:\n",
        "        text = re.sub(r'\\b\\w{1,2}\\b', '', str(text).lower()).strip()\n",
        "    elif len_words == 3:\n",
        "        text = re.sub(r'\\b\\w{1,3}\\b', '', str(text).lower()).strip()\n",
        "    text = re.sub(TEXT_CLEANING_RE, ' ', str(text).lower()).strip()\n",
        "    text = re.sub(TEXT_CLEANING_RE2, ' ', str(text).lower()).strip()\n",
        "    text = re.sub(TEXT_CLEANING_RE_EXTRA, ' ', str(text).lower()).strip()\n",
        "    return text\n",
        "\n",
        "def preprocess(text,cleaning=True, stopwords=True, stemming=False, lemmatizer=False, len_words=1):\n",
        "    text = unidecode.unidecode(text)\n",
        "    if cleaning:\n",
        "        text = clean_text(text, len_words)\n",
        "    tokens = []\n",
        "    for token in text.split():\n",
        "        if (not stopwords) or (stopwords and (token not in stop_words)):\n",
        "            if stemming:\n",
        "                tokens.append(stemmer.stem(token))\n",
        "            elif lemmatizer:\n",
        "                doc = nlp(token)\n",
        "                tokens.append(unidecode.unidecode(doc[0].lemma_))\n",
        "            else:\n",
        "                tokens.append(token)    \n",
        "    text2 = \" \".join(tokens)\n",
        "    if cleaning:\n",
        "        text2 = clean_text(text2, len_words)\n",
        "    return text2"
      ]
    },
    {
      "attachments": {},
      "cell_type": "markdown",
      "metadata": {},
      "source": [
        "## Pruebas de preprocesado"
      ]
    },
    {
      "cell_type": "code",
      "execution_count": 54,
      "metadata": {},
      "outputs": [
        {
          "name": "stdout",
          "output_type": "stream",
          "text": [
            "@adolfo_erre @TestigoDGoku Pero tengo entendido que esa ya estaba para víctimas de violación, ahora es libre decisión \n",
            "\n",
            "Sin stopwords: pero tengo entendido que esa ya estaba para victimas de violacion ahora es libre decision\n",
            "Con stemming: per teng entend que esa ya estab par victim de violacion ahor es libr decision\n",
            "Con lematizacion: pero tener entendido que ese ya estar para victima de violacion ahora ser libre decisionir\n"
          ]
        }
      ],
      "source": [
        "import random\n",
        "\n",
        "tweet = train_data['text'][random.randint(0, len(train_data))]\n",
        "#tweet = \"@jalessandri @RicardoVenegas7 @hola Estos wueones extranjero haitianos,peruanos, venezolanos y los más ladrones .cubanos .vinieron a echar el país,,,toda está gente vende en las calles y puras cochinadas como vendiendo almuerzo pobladas en la catedral fuera de este país por eso boto RECHAZO.....\"\n",
        "\n",
        "print(tweet,\"\\n\")  \n",
        "print(\"Sin stopwords:\",preprocess(tweet, stopwords=False))\n",
        "print(\"Con stemming:\",preprocess(tweet, cleaning=True, stopwords=False, stemming=True))\n",
        "print(\"Con lematizacion:\",preprocess(tweet, cleaning=True, stopwords=False, stemming=False, lemmatizer=True, len_words=1))"
      ]
    },
    {
      "cell_type": "code",
      "execution_count": 55,
      "metadata": {},
      "outputs": [
        {
          "data": {
            "image/png": "[encoded data removed]",
            "text/plain": [
              "<Figure size 1500x700 with 1 Axes>"
            ]
          },
          "metadata": {},
          "output_type": "display_data"
        }
      ],
      "source": [
        "import matplotlib.pyplot as plt\n",
        "import seaborn as sns\n",
        "from collections import Counter\n",
        "\n",
        "n_top_words = 50\n",
        "\n",
        "tweets= [preprocess(tweet, cleaning=True, stopwords=True, stemming=False, lemmatizer=False, len_words=0).split() for tweet in train_data['text'].values]\n",
        "\n",
        "top_words = Counter([item for sublist in [tweet for tweet in tweets] for item in sublist]).most_common(n_top_words)\n",
        "\n",
        "fig, ax = plt.subplots(figsize=(15,7),nrows=1)\n",
        "ax.set_title('Frecuencia Top Words',fontsize=9)\n",
        "sns.barplot(x=[w[0] for w in top_words], y=[w[1] for w in top_words])\n",
        "ax.set_xlabel(\"tokens\",fontsize=9)\n",
        "ax.set_ylabel(\"frecuencia\",fontsize=9)\n",
        "ax.tick_params(axis='both', which='major', labelsize=9)\n",
        "plt.xticks(rotation=90)\n",
        "plt.show()"
      ]
    },
    {
      "attachments": {},
      "cell_type": "markdown",
      "metadata": {},
      "source": [
        "# Definición de modelo y datos a usar"
      ]
    },
    {
      "cell_type": "code",
      "execution_count": 56,
      "metadata": {},
      "outputs": [],
      "source": [
        "CLEANING = True\n",
        "STOPWORDS = True\n",
        "STEMMING = False\n",
        "LEMMATIZER = True\n",
        "LEN_WORDS = 2\n",
        "\n",
        "train_tweets = [preprocess(tweet, cleaning=CLEANING, stopwords=STOPWORDS, stemming=STEMMING, lemmatizer=LEMMATIZER, len_words=LEN_WORDS) for tweet in train_data['text'].values]\n",
        "val_tweets = [preprocess(tweet) for tweet in val_data['text'].values]\n",
        "y_train_categorias = train_data[classes].values\n",
        "y_val_categorias = val_data[classes].values\n",
        "\n",
        "print(y_train_categorias.shape)\n",
        "print(y_val_categorias.shape)"
      ]
    },
    {
      "cell_type": "code",
      "execution_count": 43,
      "metadata": {},
      "outputs": [],
      "source": [
        "import tensorflow_addons as tfa\n",
        "METRICS = [\n",
        "      tf.metrics.BinaryAccuracy(name='accuracy'),\n",
        "      tfa.metrics.F1Score(name='F1',average='macro', num_classes=len(classes)),\n",
        "      tf.metrics.Recall(name='recall')\n",
        "]"
      ]
    },
    {
      "cell_type": "code",
      "execution_count": 44,
      "metadata": {},
      "outputs": [],
      "source": [
        "from transformers import WordpieceTokenizer, BasicTokenizer, BertTokenizer\n",
        "bert_path = 'https://tfhub.dev/tensorflow/bert_en_uncased_L-12_H-768_A-12/1'\n",
        "bert_layer = hub.KerasLayer(bert_path, trainable=True)\n",
        "\n",
        "vocab_file = bert_layer.resolved_object.vocab_file.asset_path.numpy()\n",
        "do_lower_case = bert_layer.resolved_object.do_lower_case.numpy()\n",
        "bert_tokenizer = BertTokenizer(vocab_file, do_lower_case)"
      ]
    },
    {
      "cell_type": "code",
      "execution_count": 45,
      "metadata": {},
      "outputs": [],
      "source": [
        "def prepare_input_for_bert(texts, bert_tokenizer, max_seq_len):\n",
        "  x, y, z =[],[], []\n",
        "  for text in texts:\n",
        "    tokens = bert_tokenizer.tokenize(text)\n",
        "    tokens = tokens[:min(len(tokens),max_seq_len-2)]\n",
        "    tokens = [\"[CLS]\"]+tokens+[\"[SEP]\"]\n",
        "    token_ids = bert_tokenizer.convert_tokens_to_ids(tokens)\n",
        "    input_ids = token_ids + [0] * (max_seq_len-len(token_ids))\n",
        "    input_mask = ([1] * len(token_ids)) + ([0] *  (max_seq_len - len(token_ids)))\n",
        "    input_type = ([0] * (len(token_ids)-1)) + [1] + ([0] *  (max_seq_len - len(token_ids)))\n",
        "    x.append(np.array(input_ids))\n",
        "    y.append(np.array(input_mask))\n",
        "    z.append(np.array(input_type))\n",
        "  return [tf.cast(np.array(x),tf.int32), tf.cast(np.array(y),tf.int32), tf.cast(np.array(z),tf.int32)]"
      ]
    },
    {
      "cell_type": "code",
      "execution_count": 46,
      "metadata": {},
      "outputs": [],
      "source": [
        "def bert_based_model(max_seq_len):\n",
        "  input_ids = keras.layers.Input(shape=(max_seq_len,), dtype='int32', name=\"input_ids\")\n",
        "  input_mask = keras.layers.Input(shape=(max_seq_len,), dtype='int32', name=\"input_masks\")\n",
        "  input_segments = keras.layers.Input(shape=(max_seq_len,), dtype='int32', name=\"input_segments\")\n",
        "  pooled_output, sequence_output = bert_layer([input_ids, input_mask, input_segments])\n",
        "  cls_out = keras.layers.GlobalAveragePooling1D()(sequence_output)\n",
        "  logits = keras.layers.Dropout(0.7)(cls_out)\n",
        "  logits = keras.layers.Dense(768)(logits)\n",
        "  logits = keras.layers.Dense(500)(logits)\n",
        "  logits = keras.layers.Dropout(0.7)(logits)\n",
        "  logits = keras.layers.Dense(len(classes), activation=\"sigmoid\")(logits)\n",
        "  classifier = keras.Model([input_ids, input_mask, input_segments],logits)\n",
        "\n",
        "  return classifier"
      ]
    },
    {
      "cell_type": "code",
      "execution_count": 47,
      "metadata": {},
      "outputs": [
        {
          "name": "stdout",
          "output_type": "stream",
          "text": [
            "(1917, 50)\n"
          ]
        }
      ],
      "source": [
        "max_seq_len=50\n",
        "bert_input_train = prepare_input_for_bert(train_tweets,bert_tokenizer,max_seq_len)\n",
        "bert_input_val = prepare_input_for_bert(val_tweets,bert_tokenizer,max_seq_len)\n",
        "print(bert_input_train[0].shape)"
      ]
    },
    {
      "cell_type": "code",
      "execution_count": 48,
      "metadata": {},
      "outputs": [
        {
          "name": "stdout",
          "output_type": "stream",
          "text": [
            "Model: \"model_1\"\n",
            "__________________________________________________________________________________________________\n",
            " Layer (type)                   Output Shape         Param #     Connected to                     \n",
            "==================================================================================================\n",
            " input_ids (InputLayer)         [(None, 50)]         0           []                               \n",
            "                                                                                                  \n",
            " input_masks (InputLayer)       [(None, 50)]         0           []                               \n",
            "                                                                                                  \n",
            " input_segments (InputLayer)    [(None, 50)]         0           []                               \n",
            "                                                                                                  \n",
            " keras_layer_1 (KerasLayer)     [(None, 768),        109482241   ['input_ids[0][0]',              \n",
            "                                 (None, 50, 768)]                 'input_masks[0][0]',            \n",
            "                                                                  'input_segments[0][0]']         \n",
            "                                                                                                  \n",
            " global_average_pooling1d_1 (Gl  (None, 768)         0           ['keras_layer_1[0][1]']          \n",
            " obalAveragePooling1D)                                                                            \n",
            "                                                                                                  \n",
            " dropout_2 (Dropout)            (None, 768)          0           ['global_average_pooling1d_1[0][0\n",
            "                                                                 ]']                              \n",
            "                                                                                                  \n",
            " dense_4 (Dense)                (None, 768)          590592      ['dropout_2[0][0]']              \n",
            "                                                                                                  \n",
            " dense_5 (Dense)                (None, 500)          384500      ['dense_4[0][0]']                \n",
            "                                                                                                  \n",
            " dropout_3 (Dropout)            (None, 500)          0           ['dense_5[0][0]']                \n",
            "                                                                                                  \n",
            " dense_6 (Dense)                (None, 1)            501         ['dropout_3[0][0]']              \n",
            "                                                                                                  \n",
            "==================================================================================================\n",
            "Total params: 110,457,834\n",
            "Trainable params: 110,457,833\n",
            "Non-trainable params: 1\n",
            "__________________________________________________________________________________________________\n"
          ]
        }
      ],
      "source": [
        "bert_model = bert_based_model(max_seq_len)\n",
        "bert_model.summary()\n",
        "bert_model.compile(\n",
        "    optimizer=keras.optimizers.Adam(learning_rate=1e-5),\n",
        "    loss=tf.keras.losses.BinaryCrossentropy(),\n",
        "    metrics = METRICS)"
      ]
    },
    {
      "attachments": {},
      "cell_type": "markdown",
      "metadata": {},
      "source": [
        "# Entrenamiento"
      ]
    },
    {
      "cell_type": "code",
      "execution_count": 49,
      "metadata": {},
      "outputs": [
        {
          "name": "stdout",
          "output_type": "stream",
          "text": [
            "metrica monitoreada val_accuracy\n",
            "Epoch 1/80\n",
            "240/240 [==============================] - 38s 117ms/step - loss: 0.7616 - accuracy: 0.6082 - F1: 0.6023 - recall: 0.5048 - val_loss: 0.5330 - val_accuracy: 0.7168 - val_F1: 0.6758 - val_recall: 0.6590\n",
            "Epoch 2/80\n",
            "240/240 [==============================] - 27s 111ms/step - loss: 0.5521 - accuracy: 0.7418 - F1: 0.6023 - recall: 0.6501 - val_loss: 0.4954 - val_accuracy: 0.7522 - val_F1: 0.6758 - val_recall: 0.7803\n",
            "Epoch 3/80\n",
            "240/240 [==============================] - 27s 113ms/step - loss: 0.4276 - accuracy: 0.8232 - F1: 0.6023 - recall: 0.7639 - val_loss: 0.4824 - val_accuracy: 0.7699 - val_F1: 0.6758 - val_recall: 0.6994\n",
            "Epoch 4/80\n",
            "240/240 [==============================] - 26s 110ms/step - loss: 0.2757 - accuracy: 0.8946 - F1: 0.6023 - recall: 0.8632 - val_loss: 0.6657 - val_accuracy: 0.7670 - val_F1: 0.6758 - val_recall: 0.6243\n",
            "Epoch 5/80\n",
            "240/240 [==============================] - 26s 110ms/step - loss: 0.1340 - accuracy: 0.9541 - F1: 0.6023 - recall: 0.9358 - val_loss: 1.0124 - val_accuracy: 0.7434 - val_F1: 0.6758 - val_recall: 0.7630\n",
            "Epoch 6/80\n",
            "240/240 [==============================] - 26s 110ms/step - loss: 0.0679 - accuracy: 0.9786 - F1: 0.6023 - recall: 0.9709 - val_loss: 1.3168 - val_accuracy: 0.7640 - val_F1: 0.6758 - val_recall: 0.5723\n",
            "Epoch 7/80\n",
            "240/240 [==============================] - 27s 112ms/step - loss: 0.0538 - accuracy: 0.9833 - F1: 0.6023 - recall: 0.9782 - val_loss: 1.3395 - val_accuracy: 0.7611 - val_F1: 0.6758 - val_recall: 0.6185\n",
            "Epoch 8/80\n",
            "240/240 [==============================] - 25s 105ms/step - loss: 0.0373 - accuracy: 0.9854 - F1: 0.6023 - recall: 0.9782 - val_loss: 1.4035 - val_accuracy: 0.7345 - val_F1: 0.6758 - val_recall: 0.8150\n",
            "Epoch 9/80\n",
            "240/240 [==============================] - 26s 106ms/step - loss: 0.0137 - accuracy: 0.9948 - F1: 0.6023 - recall: 0.9939 - val_loss: 1.7441 - val_accuracy: 0.7788 - val_F1: 0.6758 - val_recall: 0.7746\n",
            "Epoch 10/80\n",
            "240/240 [==============================] - 25s 106ms/step - loss: 0.0079 - accuracy: 0.9979 - F1: 0.6023 - recall: 0.9976 - val_loss: 2.0038 - val_accuracy: 0.7699 - val_F1: 0.6758 - val_recall: 0.7803\n",
            "Epoch 11/80\n",
            "240/240 [==============================] - 24s 98ms/step - loss: 0.0070 - accuracy: 0.9969 - F1: 0.6023 - recall: 0.9964 - val_loss: 2.1622 - val_accuracy: 0.7758 - val_F1: 0.6758 - val_recall: 0.7746\n",
            "Epoch 12/80\n",
            "240/240 [==============================] - 27s 114ms/step - loss: 0.0083 - accuracy: 0.9979 - F1: 0.6025 - recall: 0.9988 - val_loss: 1.8910 - val_accuracy: 0.7729 - val_F1: 0.6758 - val_recall: 0.7746\n",
            "Epoch 13/80\n",
            "240/240 [==============================] - 26s 109ms/step - loss: 0.0066 - accuracy: 0.9974 - F1: 0.6023 - recall: 0.9952 - val_loss: 2.2507 - val_accuracy: 0.7552 - val_F1: 0.6758 - val_recall: 0.7977\n",
            "Epoch 14/80\n",
            "240/240 [==============================] - 28s 118ms/step - loss: 0.0061 - accuracy: 0.9974 - F1: 0.6025 - recall: 0.9964 - val_loss: 2.3318 - val_accuracy: 0.7463 - val_F1: 0.6758 - val_recall: 0.7803\n",
            "Epoch 15/80\n",
            "240/240 [==============================] - 27s 112ms/step - loss: 0.0060 - accuracy: 0.9979 - F1: 0.6025 - recall: 0.9976 - val_loss: 2.3717 - val_accuracy: 0.7788 - val_F1: 0.6758 - val_recall: 0.7746\n",
            "Epoch 16/80\n",
            "240/240 [==============================] - 28s 116ms/step - loss: 0.0097 - accuracy: 0.9969 - F1: 0.6023 - recall: 0.9952 - val_loss: 2.3300 - val_accuracy: 0.7640 - val_F1: 0.6758 - val_recall: 0.7861\n",
            "Epoch 17/80\n",
            "240/240 [==============================] - 27s 111ms/step - loss: 0.0050 - accuracy: 0.9974 - F1: 0.6023 - recall: 0.9964 - val_loss: 2.3887 - val_accuracy: 0.7611 - val_F1: 0.6758 - val_recall: 0.7861\n",
            "Epoch 18/80\n",
            "240/240 [==============================] - 27s 112ms/step - loss: 0.0045 - accuracy: 0.9979 - F1: 0.6025 - recall: 0.9964 - val_loss: 2.4195 - val_accuracy: 0.7581 - val_F1: 0.6758 - val_recall: 0.7977\n",
            "Epoch 19/80\n",
            "240/240 [==============================] - 27s 111ms/step - loss: 0.0060 - accuracy: 0.9963 - F1: 0.6025 - recall: 0.9964 - val_loss: 2.3803 - val_accuracy: 0.7581 - val_F1: 0.6758 - val_recall: 0.7341\n"
          ]
        }
      ],
      "source": [
        "if len(classes) == 1:\n",
        "    metrica_monitoreada = 'val_accuracy'\n",
        "else:\n",
        "    metrica_monitoreada = 'val_F1'\n",
        "\n",
        "print(\"metrica monitoreada\", metrica_monitoreada)\n",
        "\n",
        "checkpoint_path = 'BERT_based_checkpoints/BERT_based.{epoch:02d}-{val_F1:.4f}.h5'\n",
        "cp_callback = tf.keras.callbacks.ModelCheckpoint(filepath=checkpoint_path,save_weights_only=True,save_best_only=True,monitor=metrica_monitoreada,mode='max')\n",
        "es = tf.keras.callbacks.EarlyStopping(monitor=metrica_monitoreada, patience=10, restore_best_weights=True, mode='max')\n",
        "history_bert_model = bert_model.fit(bert_input_train, y_train_categorias, epochs=80, batch_size=8, validation_data=(bert_input_val, y_val_categorias), callbacks=[es])"
      ]
    },
    {
      "cell_type": "code",
      "execution_count": 191,
      "metadata": {},
      "outputs": [],
      "source": [
        "bert_model.save('BERT_model/BERT_'+str(len(classes))+'class_F1-{:.4f}.h5'.format((history_bert_model.history['val_F1'][-1])))"
      ]
    },
    {
      "attachments": {},
      "cell_type": "markdown",
      "metadata": {},
      "source": [
        "# Predicciones"
      ]
    },
    {
      "cell_type": "markdown",
      "metadata": {},
      "source": [
        "### Usar modelo guardado"
      ]
    },
    {
      "cell_type": "code",
      "execution_count": null,
      "metadata": {},
      "outputs": [],
      "source": [
        "PATH_ODIO = 'Odio/'\n",
        "bert_model = tf.keras.models.load_model(PATH_ODIO+'Modelo_denso.h5')"
      ]
    },
    {
      "cell_type": "markdown",
      "metadata": {},
      "source": [
        "### Hacer predicciones"
      ]
    },
    {
      "cell_type": "code",
      "execution_count": 77,
      "metadata": {},
      "outputs": [
        {
          "name": "stdout",
          "output_type": "stream",
          "text": [
            "72/72 [==============================] - 4s 45ms/step\n"
          ]
        },
        {
          "data": {
            "text/html": [
              "<div>\n",
              "<style scoped>\n",
              "    .dataframe tbody tr th:only-of-type {\n",
              "        vertical-align: middle;\n",
              "    }\n",
              "\n",
              "    .dataframe tbody tr th {\n",
              "        vertical-align: top;\n",
              "    }\n",
              "\n",
              "    .dataframe thead tr th {\n",
              "        text-align: left;\n",
              "    }\n",
              "</style>\n",
              "<table border=\"1\" class=\"dataframe\">\n",
              "  <thead>\n",
              "    <tr>\n",
              "      <th></th>\n",
              "      <th>Odio</th>\n",
              "      <th>Mujeres</th>\n",
              "      <th>Comunidad LGBTQ+</th>\n",
              "      <th>Comunidades Migrantes</th>\n",
              "      <th>Pueblos Originarios</th>\n",
              "    </tr>\n",
              "  </thead>\n",
              "  <tbody>\n",
              "    <tr>\n",
              "      <th>0</th>\n",
              "      <td>0.0</td>\n",
              "      <td>0.0</td>\n",
              "      <td>0.0</td>\n",
              "      <td>0.0</td>\n",
              "      <td>0.0</td>\n",
              "    </tr>\n",
              "    <tr>\n",
              "      <th>1</th>\n",
              "      <td>0.0</td>\n",
              "      <td>0.0</td>\n",
              "      <td>0.0</td>\n",
              "      <td>0.0</td>\n",
              "      <td>0.0</td>\n",
              "    </tr>\n",
              "    <tr>\n",
              "      <th>2</th>\n",
              "      <td>0.0</td>\n",
              "      <td>0.0</td>\n",
              "      <td>0.0</td>\n",
              "      <td>0.0</td>\n",
              "      <td>0.0</td>\n",
              "    </tr>\n",
              "    <tr>\n",
              "      <th>3</th>\n",
              "      <td>1.0</td>\n",
              "      <td>0.0</td>\n",
              "      <td>0.0</td>\n",
              "      <td>0.0</td>\n",
              "      <td>1.0</td>\n",
              "    </tr>\n",
              "    <tr>\n",
              "      <th>4</th>\n",
              "      <td>0.0</td>\n",
              "      <td>0.0</td>\n",
              "      <td>0.0</td>\n",
              "      <td>0.0</td>\n",
              "      <td>0.0</td>\n",
              "    </tr>\n",
              "    <tr>\n",
              "      <th>...</th>\n",
              "      <td>...</td>\n",
              "      <td>...</td>\n",
              "      <td>...</td>\n",
              "      <td>...</td>\n",
              "      <td>...</td>\n",
              "    </tr>\n",
              "    <tr>\n",
              "      <th>2286</th>\n",
              "      <td>1.0</td>\n",
              "      <td>0.0</td>\n",
              "      <td>0.0</td>\n",
              "      <td>1.0</td>\n",
              "      <td>0.0</td>\n",
              "    </tr>\n",
              "    <tr>\n",
              "      <th>2287</th>\n",
              "      <td>0.0</td>\n",
              "      <td>0.0</td>\n",
              "      <td>0.0</td>\n",
              "      <td>0.0</td>\n",
              "      <td>0.0</td>\n",
              "    </tr>\n",
              "    <tr>\n",
              "      <th>2288</th>\n",
              "      <td>0.0</td>\n",
              "      <td>0.0</td>\n",
              "      <td>0.0</td>\n",
              "      <td>0.0</td>\n",
              "      <td>0.0</td>\n",
              "    </tr>\n",
              "    <tr>\n",
              "      <th>2289</th>\n",
              "      <td>1.0</td>\n",
              "      <td>0.0</td>\n",
              "      <td>1.0</td>\n",
              "      <td>0.0</td>\n",
              "      <td>0.0</td>\n",
              "    </tr>\n",
              "    <tr>\n",
              "      <th>2290</th>\n",
              "      <td>0.0</td>\n",
              "      <td>0.0</td>\n",
              "      <td>0.0</td>\n",
              "      <td>0.0</td>\n",
              "      <td>0.0</td>\n",
              "    </tr>\n",
              "  </tbody>\n",
              "</table>\n",
              "<p>2291 rows × 5 columns</p>\n",
              "</div>"
            ],
            "text/plain": [
              "     Odio Mujeres Comunidad LGBTQ+ Comunidades Migrantes Pueblos Originarios\n",
              "0     0.0     0.0              0.0                   0.0                 0.0\n",
              "1     0.0     0.0              0.0                   0.0                 0.0\n",
              "2     0.0     0.0              0.0                   0.0                 0.0\n",
              "3     1.0     0.0              0.0                   0.0                 1.0\n",
              "4     0.0     0.0              0.0                   0.0                 0.0\n",
              "...   ...     ...              ...                   ...                 ...\n",
              "2286  1.0     0.0              0.0                   1.0                 0.0\n",
              "2287  0.0     0.0              0.0                   0.0                 0.0\n",
              "2288  0.0     0.0              0.0                   0.0                 0.0\n",
              "2289  1.0     0.0              1.0                   0.0                 0.0\n",
              "2290  0.0     0.0              0.0                   0.0                 0.0\n",
              "\n",
              "[2291 rows x 5 columns]"
            ]
          },
          "execution_count": 77,
          "metadata": {},
          "output_type": "execute_result"
        }
      ],
      "source": [
        "test_data = pd.read_csv('data/public_test.csv')\n",
        "test_tweets = [preprocess(tweet) for tweet in test_data['text'].values]\n",
        "bert_input_test = prepare_input_for_bert(test_tweets,bert_tokenizer,max_seq_len)\n",
        "\n",
        "y_pred_categorias = bert_model.predict(bert_input_test)\n",
        "for row in y_pred_categorias:\n",
        "    for i in range(len(classes)):\n",
        "        if row[i] > 0.5:\n",
        "            row[i] = 1\n",
        "        else:\n",
        "            row[i] = 0\n",
        "y_pred_categorias = pd.DataFrame(y_pred_categorias, columns=[classes])\n",
        "y_pred_categorias.to_csv('predicciones.csv', index=False)\n",
        "y_pred_categorias"
      ]
    },
    {
      "cell_type": "code",
      "execution_count": 78,
      "metadata": {},
      "outputs": [],
      "source": [
        "#!shutdown -s -t 60"
      ]
    }
  ],
  "metadata": {
    "colab": {
      "collapsed_sections": [
        "EkFGgLo7s8tE",
        "bsVED_Pw1WJO",
        "XzdMTP1z_Xhe"
      ],
      "provenance": [],
      "toc_visible": true
    },
    "kernelspec": {
      "display_name": "Python 3",
      "name": "python3"
    },
    "language_info": {
      "codemirror_mode": {
        "name": "ipython",
        "version": 3
      },
      "file_extension": ".py",
      "mimetype": "text/x-python",
      "name": "python",
      "nbconvert_exporter": "python",
      "pygments_lexer": "ipython3",
      "version": "3.10.6"
    }
  },
  "nbformat": 4,
  "nbformat_minor": 0
}
